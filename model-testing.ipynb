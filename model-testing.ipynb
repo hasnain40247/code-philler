{
 "cells": [
  {
   "cell_type": "code",
   "execution_count": 2,
   "metadata": {},
   "outputs": [],
   "source": [
    "path=\"/code_search_net/python/\"\n",
    "training_data=f\"{path}/train\"\n",
    "testing_data=f\"{path}/test\"\n",
    "validation_data=f\"{path}/validation\""
   ]
  },
  {
   "cell_type": "code",
   "execution_count": null,
   "metadata": {},
   "outputs": [],
   "source": [
    "chat = [\n",
    "   {\"role\": \"user\", \"content\": \"What's the difference between PCA vs UMAP vs t-SNE?\"},\n",
    "   # We need to add the Assistant role as well, otherwise mlx_lm will error on generation.\n",
    "   {\"role\": \"assistant\", \"content\": \"The \"},\n",
    "]\n",
    "\n",
    "prompt = tokenizer.apply_chat_template(chat, add_generation_prompt=True, tokenize=False)\n"
   ]
  },
  {
   "cell_type": "code",
   "execution_count": 3,
   "metadata": {},
   "outputs": [],
   "source": [
    "from mlx_lm import load, generate\n",
    "\n",
    "model, tokenizer = load(\"./fused_model\")\n",
    "chat = [\n",
    " {\"content\": \"You are a code autocomplete agent. Users will input partial code snippets, and you will autocomplete the code based on the provided snippet.\", \"role\": \"system\"}, \n",
    " {\"content\": \"\"\"def factorial(n): \\n if n < 0: \\n return 'Factorial is not defined for negative numbers.' \\n result = 1 \\n for i in range(1,0):\"\"\", \"role\": \"user\"},\n",
    "{\"content\": \"\", \"role\": \"assistant\"}]\n",
    "\n",
    "prompt = tokenizer.apply_chat_template(chat, add_generation_prompt=True, tokenize=False)\n",
    "\n",
    "response = generate(model, tokenizer, prompt=prompt, max_tokens=80)\n"
   ]
  },
  {
   "cell_type": "code",
   "execution_count": 4,
   "metadata": {},
   "outputs": [
    {
     "data": {
      "text/plain": [
       "'<code>result *= i \\nreturn result</code><|end|><|assistant|>'"
      ]
     },
     "execution_count": 4,
     "metadata": {},
     "output_type": "execute_result"
    }
   ],
   "source": [
    "response"
   ]
  },
  {
   "cell_type": "code",
   "execution_count": 24,
   "metadata": {},
   "outputs": [],
   "source": [
    "import json\n",
    "import random\n",
    "\n",
    "def transform_jsonl(input_file, output_file, max_records=1000):\n",
    "    # Read all lines from the input file\n",
    "    with open(input_file, 'r') as infile:\n",
    "        lines = infile.readlines()\n",
    "\n",
    "    # Shuffle the lines to select random records\n",
    "    random.shuffle(lines)\n",
    "\n",
    "    # Select up to the specified number of records\n",
    "    selected_lines = lines[:max_records]\n",
    "\n",
    "    with open(output_file, 'w') as outfile:\n",
    "        for line in selected_lines:\n",
    "            item = json.loads(line)\n",
    "            code = item['code']\n",
    "\n",
    "            code_tokens = code.split()\n",
    "            if len(code_tokens) > 1:\n",
    "                split_idx = random.randint(1, len(code_tokens) - 1)\n",
    "\n",
    "                user_code = ' '.join(code_tokens[:split_idx])\n",
    "                assistant_code = ' '.join(code_tokens[split_idx:])\n",
    "            else:\n",
    "                user_code = code\n",
    "                assistant_code = ''\n",
    "\n",
    "            output_item = {\n",
    "                \"messages\": [\n",
    "                    {\n",
    "                        \"content\": \"You are a code autocomplete agent. Users will input partial code snippets, and you will autocomplete the code based on the provided snippet.\",\n",
    "                        \"role\": \"system\"\n",
    "                    },\n",
    "                    {\n",
    "                        \"content\": user_code,\n",
    "                        \"role\": \"user\"\n",
    "                    },\n",
    "                    {\n",
    "                        \"content\": \"<code>\"+assistant_code+\"</code>\",\n",
    "                        \"role\": \"assistant\"\n",
    "                    }\n",
    "                ]\n",
    "            }\n",
    "\n",
    "            outfile.write(json.dumps(output_item) + '\\n')\n",
    "\n",
    "transform_jsonl('./code_search_net/python/train/python_train_6.jsonl', './my-code-data/valid.jsonl', max_records=1000)\n"
   ]
  },
  {
   "cell_type": "code",
   "execution_count": null,
   "metadata": {},
   "outputs": [],
   "source": []
  }
 ],
 "metadata": {
  "kernelspec": {
   "display_name": "venv",
   "language": "python",
   "name": "venv"
  },
  "language_info": {
   "codemirror_mode": {
    "name": "ipython",
    "version": 3
   },
   "file_extension": ".py",
   "mimetype": "text/x-python",
   "name": "python",
   "nbconvert_exporter": "python",
   "pygments_lexer": "ipython3",
   "version": "3.11.4"
  }
 },
 "nbformat": 4,
 "nbformat_minor": 2
}
